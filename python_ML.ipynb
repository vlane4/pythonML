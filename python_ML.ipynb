{
 "cells": [
  {
   "cell_type": "markdown",
   "id": "fefec158-41ef-459a-a4c2-8964324a854c",
   "metadata": {},
   "source": [
    "<h1 style=\"color:green\"><b>Machine Learning - getting started with Python</b></h1>"
   ]
  },
  {
   "cell_type": "markdown",
   "id": "196e2f72-785c-4f07-a41e-7ccd556c2e32",
   "metadata": {},
   "source": [
    "<h2 style=\"color:green\">Background</h2> \n",
    "<p>Machine Learning is becoming increasingly important in the renewable energy sector. One such example is in the use of ML to detect when equipment may be failing and is in need of servicing. In this notebook, we are going to work through an example of using Python to read and plot sensor state-of-heath (SOH) data; the initial stages of developing a machine learning model.</p>\n",
    "\n",
    "<p>The standard Python library contains over 200 packages (pre-written code and functions), which we can use in our scripts. The <i>Python Package Index</i> (PyPI) contains an additional half a million packages, developed and shared by the Python community; many of these directly support the stages of Machine Learning, as shown below:</p>\n",
    "\n",
    "<div style=\"text-align: center;\">\n",
    "    <img src=\"process.jpg\" alt=\"stages of machine learning\">\n",
    "</div>\n",
    "\n",
    "<p>The data set we will be using contains the input voltage and power of a seismometer. Not only are these parameters crucial for designing solar arrays for power, they can also tell us about the health of the sensor, as we saw in the PowerPoint.</p>\n",
    "\n",
    "<h2 style=\"color:green\">Aims</h2> \n",
    "    - To introduce Python as a ML tool</br>\n",
    "    - To work through examples of two of the most commonly used Python packages in the early stages of ML: pandas and matplotlib.</br></br>\n",
    "\n",
    "\n",
    "<b>Pandas</b> - <i>Panel Data / Python data analysis</i>: data structures (series and dataframes) with support to read in data from sources such as Excel or CSV files\n",
    "\n",
    "<b>Matplotlib</b>: Data visualisation through static, interactive and animated plots"
   ]
  },
  {
   "cell_type": "markdown",
   "id": "5303deac-0e19-4dd5-a06b-c53d6db8684e",
   "metadata": {},
   "source": [
    "<div class=\"alert alert-success\"> Although this notebook focuses on pandas and matplotlib, there are many others</div>"
   ]
  },
  {
   "cell_type": "markdown",
   "id": "deb28f50-aa9e-4173-aaf1-031d4b332821",
   "metadata": {},
   "source": [
    "<h1 style=\"color:green\">1) Import the packages</h1>\n",
    "The first step when using pre-written functions is to <i>import</i> them."
   ]
  },
  {
   "cell_type": "code",
   "execution_count": null,
   "id": "4ef17b22-c009-4598-b507-1bd82b0f4302",
   "metadata": {},
   "outputs": [],
   "source": [
    "# import the packages to access all their functions\n",
    "import pandas as pd\n",
    "\n",
    "# import a specific module from matplotlib\n",
    "from matplotlib import pyplot as plt"
   ]
  },
  {
   "cell_type": "markdown",
   "id": "1b293356-849a-4c03-a983-4909750d96ac",
   "metadata": {},
   "source": [
    "<h1 style=\"color:green\">2) Using Pandas</h1>\n",
    "Pandas is a powerful data manipulation package with functions which support data analysis, statistics, data cleaning etc. It also includes support for reading in data of various formats, from a variety of file types.</br></br>\n",
    "\n",
    "The two main data structures are known as <i>series</i>, which can be thought of as a 1D structure (e.g. a column) and <i>dataFrames</i>, which can be thought of as a 2D structure (e.g. a table with muliple columns). \n",
    "\n",
    "We will be using the <i>read_csv</i> function to read the seismometer SOH file, </i>myData1.csv</i>, into a pandas dataFrame:"
   ]
  },
  {
   "cell_type": "code",
   "execution_count": null,
   "id": "e0c11419-471b-4964-a98a-b64f66955bc3",
   "metadata": {},
   "outputs": [],
   "source": [
    "# read_csv function of the pandas library (imported as 'pd') with the ability to process dates as 'datetime objects'\n",
    "myData=pd.read_csv('data/myData1.csv', parse_dates=['date'])"
   ]
  },
  {
   "cell_type": "code",
   "execution_count": null,
   "id": "d0264f22-3f26-47a6-90e8-a86ba401102a",
   "metadata": {},
   "outputs": [],
   "source": [
    "# head is a pandas function, which returns the first n entries of a dataframe. n is optional, with 5 being the default.\n",
    "myData.head(n=7)"
   ]
  },
  {
   "cell_type": "markdown",
   "id": "fc1bc5f0-baf6-4635-8dfc-7d9fd52fda22",
   "metadata": {},
   "source": [
    "<b>Question:</b> Can you think of a way to display the last 7 entries from our dataFrame?"
   ]
  },
  {
   "cell_type": "code",
   "execution_count": null,
   "id": "ff9e79a6-a88d-4dd7-a223-0686f3b413fa",
   "metadata": {},
   "outputs": [],
   "source": []
  },
  {
   "cell_type": "markdown",
   "id": "3f3544f5-68a5-4ff2-bbc1-8197425dca8f",
   "metadata": {},
   "source": [
    "The pandas dataFrame can accept many data formats, and these can be viewed by calling <i>dtypes</i>. Note the format of the date column in the dataFrame we have just created. "
   ]
  },
  {
   "cell_type": "code",
   "execution_count": null,
   "id": "e5e49154-646a-4047-a70f-8933d96438ba",
   "metadata": {},
   "outputs": [],
   "source": [
    "# viewing the data types within our dataframe\n",
    "myData.dtypes"
   ]
  },
  {
   "cell_type": "markdown",
   "id": "945fe9a7-78dd-4b3e-9f22-59ffe2fc79a3",
   "metadata": {},
   "source": [
    "<h1 style=\"color:green\">3) Using Matplotlib</h1>\n",
    "Plotting the contents of our pandas dataframe with the plot function, taken from matplotlib:"
   ]
  },
  {
   "cell_type": "markdown",
   "id": "9cf27007-0993-471a-a0b6-8ad2d397a043",
   "metadata": {},
   "source": [
    "<b>Simple plot of one column of data</b>"
   ]
  },
  {
   "cell_type": "code",
   "execution_count": null,
   "id": "32c8e0df-cc94-4df6-8d7b-b5bc8ec746f6",
   "metadata": {},
   "outputs": [],
   "source": [
    "fig, ax1 =plt.subplots()\n",
    "\n",
    "# plot data and set colour\n",
    "ax1.plot(myData['date'], myData['sensor_power'], color='g')\n",
    "ax1.set_ylabel('Power (W)',color='g') #axis label\n",
    "ax1.tick_params(axis='x',labelrotation=45)\n",
    "\n",
    "plt.title(\"Sensor 4E67\")\n",
    "plt.show()"
   ]
  },
  {
   "cell_type": "markdown",
   "id": "7450dbd4-8b34-4f7e-87fc-6705b63455be",
   "metadata": {},
   "source": [
    "<b>More advanced plot, with both columns of data</b>"
   ]
  },
  {
   "cell_type": "code",
   "execution_count": null,
   "id": "8c793efc-a9c3-47b5-ba49-1a899492a3df",
   "metadata": {},
   "outputs": [],
   "source": [
    "fig, ax1 =plt.subplots()\n",
    "\n",
    "# plot data and set colour\n",
    "ax1.plot(myData['date'], myData['input_voltage'], color='m')\n",
    "ax1.set_ylabel('Voltage (V)',color='m') # axis label\n",
    "\n",
    "ax1.tick_params(axis='x',labelrotation=45) # rotate x xaxis to make dates fit\n",
    "\n",
    "ax2 = ax1.twinx() # setup a second axis, sharing a common x-axis\n",
    "\n",
    "ax2.plot(myData['date'], myData['sensor_power'], color='g')\n",
    "ax2.set_ylabel('Power (W)',color='g')\n",
    "\n",
    "plt.title(\"Sensor 4E67\")\n",
    "plt.show()"
   ]
  },
  {
   "cell_type": "markdown",
   "id": "e97fc2f5-f1ed-4b6f-9d6b-0d03ecbddb4e",
   "metadata": {},
   "source": [
    "<h1 style=\"color:green\">Summary</h1>\n",
    "\n",
    "This workbook has shown examples of how Python can be used to gather and start pre-processing data, as part of a machine learning process. "
   ]
  },
  {
   "cell_type": "markdown",
   "id": "b8142495-168a-4f30-8fbf-b71b13057d85",
   "metadata": {},
   "source": [
    "<h1 style=\"color:green\">Next steps</h1>\n",
    "\n",
    "This notebook is only the beginning! Try using the dir() command to see all the available parameters for the modules we have looked at today. Remember they are already loaded within this notebook as pd and plt:"
   ]
  },
  {
   "cell_type": "code",
   "execution_count": null,
   "id": "1115cca9-418e-46e5-919b-2171c492ce72",
   "metadata": {},
   "outputs": [],
   "source": [
    "dir(pd)"
   ]
  }
 ],
 "metadata": {
  "kernelspec": {
   "display_name": "Python 3 (ipykernel)",
   "language": "python",
   "name": "python3"
  },
  "language_info": {
   "codemirror_mode": {
    "name": "ipython",
    "version": 3
   },
   "file_extension": ".py",
   "mimetype": "text/x-python",
   "name": "python",
   "nbconvert_exporter": "python",
   "pygments_lexer": "ipython3",
   "version": "3.12.4"
  }
 },
 "nbformat": 4,
 "nbformat_minor": 5
}
